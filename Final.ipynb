{
 "cells": [
  {
   "cell_type": "markdown",
   "metadata": {
    "toc": true
   },
   "source": [
    "<h1>Table of Contents<span class=\"tocSkip\"></span></h1>\n",
    "<div class=\"toc\" style=\"margin-top: 1em;\"><ul class=\"toc-item\"><li><span><a href=\"#0.-Imports\" data-toc-modified-id=\"0.-Imports-1\">0. Imports</a></span><ul class=\"toc-item\"><li><span><a href=\"#0.1-Local\" data-toc-modified-id=\"0.1-Local-1.1\">0.1 Local</a></span></li><li><span><a href=\"#0.2-General\" data-toc-modified-id=\"0.2-General-1.2\">0.2 General</a></span></li></ul></li><li><span><a href=\"#1.-Introduction\" data-toc-modified-id=\"1.-Introduction-2\">1. Introduction</a></span><ul class=\"toc-item\"><li><span><a href=\"#1.1-Why-?\" data-toc-modified-id=\"1.1-Why-?-2.1\">1.1 Why ?</a></span></li><li><span><a href=\"#1.2-How-?\" data-toc-modified-id=\"1.2-How-?-2.2\">1.2 How ?</a></span></li><li><span><a href=\"#1.3-What-?\" data-toc-modified-id=\"1.3-What-?-2.3\">1.3 What ?</a></span></li></ul></li><li><span><a href=\"#2.-GraphLang-v1\" data-toc-modified-id=\"2.-GraphLang-v1-3\">2. GraphLang v1</a></span><ul class=\"toc-item\"><li><span><a href=\"#2.1-Data-Acquisition\" data-toc-modified-id=\"2.1-Data-Acquisition-3.1\">2.1 Data Acquisition</a></span></li><li><span><a href=\"#2.2-Preprocessing\" data-toc-modified-id=\"2.2-Preprocessing-3.2\">2.2 Preprocessing</a></span></li><li><span><a href=\"#2.3-Issues\" data-toc-modified-id=\"2.3-Issues-3.3\">2.3 Issues</a></span></li></ul></li><li><span><a href=\"#3.-GraphLang-v2\" data-toc-modified-id=\"3.-GraphLang-v2-4\">3. GraphLang v2</a></span><ul class=\"toc-item\"><li><span><a href=\"#3.1-Data-Acquisition\" data-toc-modified-id=\"3.1-Data-Acquisition-4.1\">3.1 Data Acquisition</a></span></li><li><span><a href=\"#3.2-Features-Engineering\" data-toc-modified-id=\"3.2-Features-Engineering-4.2\">3.2 Features Engineering</a></span><ul class=\"toc-item\"><li><ul class=\"toc-item\"><li><span><a href=\"#with-subset-of-the-data\" data-toc-modified-id=\"with-subset-of-the-data-4.2.0.1\">with subset of the data</a></span></li></ul></li></ul></li></ul></li><li><span><a href=\"#4.-Graph-Construction\" data-toc-modified-id=\"4.-Graph-Construction-5\">4. Graph Construction</a></span><ul class=\"toc-item\"><li><ul class=\"toc-item\"><li><span><a href=\"#Distance-matrix\" data-toc-modified-id=\"Distance-matrix-5.0.1\">Distance matrix</a></span></li><li><span><a href=\"#Weight-Matrix\" data-toc-modified-id=\"Weight-Matrix-5.0.2\">Weight Matrix</a></span><ul class=\"toc-item\"><li><span><a href=\"#horizontal-white-lines-are-due-to-pyplot.spy-(proof-below)\" data-toc-modified-id=\"horizontal-white-lines-are-due-to-pyplot.spy-(proof-below)-5.0.2.1\">horizontal white lines are due to pyplot.spy (proof below)</a></span></li></ul></li><li><span><a href=\"#Degree-matrix\" data-toc-modified-id=\"Degree-matrix-5.0.3\">Degree matrix</a></span></li></ul></li></ul></li><li><span><a href=\"#5.-Unsupervised-Clustering\" data-toc-modified-id=\"5.-Unsupervised-Clustering-6\">5. Unsupervised Clustering</a></span><ul class=\"toc-item\"><li><span><a href=\"#5.1-Spectral-Clustering\" data-toc-modified-id=\"5.1-Spectral-Clustering-6.1\">5.1 Spectral Clustering</a></span></li><li><span><a href=\"#5.2-Gaussian-Mixture-Model\" data-toc-modified-id=\"5.2-Gaussian-Mixture-Model-6.2\">5.2 Gaussian Mixture Model</a></span></li><li><span><a href=\"#5.3-k-NN\" data-toc-modified-id=\"5.3-k-NN-6.3\">5.3 k-NN</a></span></li></ul></li><li><span><a href=\"#6.-Evaluation\" data-toc-modified-id=\"6.-Evaluation-7\">6. Evaluation</a></span></li><li><span><a href=\"#7.-Inference\" data-toc-modified-id=\"7.-Inference-8\">7. Inference</a></span></li><li><span><a href=\"#8.-Conclusion\" data-toc-modified-id=\"8.-Conclusion-9\">8. Conclusion</a></span></li></ul></div>"
   ]
  },
  {
   "cell_type": "markdown",
   "metadata": {},
   "source": [
    "# 0. Imports"
   ]
  },
  {
   "cell_type": "markdown",
   "metadata": {},
   "source": [
    "## 0.1 Local"
   ]
  },
  {
   "cell_type": "code",
   "execution_count": 1,
   "metadata": {},
   "outputs": [],
   "source": [
    "import spectral"
   ]
  },
  {
   "cell_type": "markdown",
   "metadata": {},
   "source": [
    "## 0.2 General"
   ]
  },
  {
   "cell_type": "code",
   "execution_count": 2,
   "metadata": {},
   "outputs": [],
   "source": [
    "import scipy\n",
    "\n",
    "import numpy as np\n",
    "import pandas as pd\n",
    "import networkx as nx\n",
    "import seaborn as sns\n",
    "\n",
    "from tqdm import tqdm_notebook as tqdm\n",
    "from matplotlib import pyplot as plt"
   ]
  },
  {
   "cell_type": "code",
   "execution_count": 3,
   "metadata": {},
   "outputs": [],
   "source": [
    "from sklearn.datasets import fetch_20newsgroups\n",
    "from sklearn.feature_extraction.text import TfidfVectorizer"
   ]
  },
  {
   "cell_type": "code",
   "execution_count": 4,
   "metadata": {},
   "outputs": [],
   "source": [
    "%matplotlib inline\n",
    "sns.set(rc={\"figure.figsize\": (15, 6)})\n",
    "sns.set_palette(sns.color_palette(\"Set2\", 10))"
   ]
  },
  {
   "cell_type": "markdown",
   "metadata": {},
   "source": [
    "# 1. Introduction"
   ]
  },
  {
   "cell_type": "markdown",
   "metadata": {},
   "source": [
    "## 1.1 Why ?\n",
    "Reading is too mainstream. What if you could get the important ideas from a text without even reading it ? What about comparing several documents based on their textual content ? Or maybe you just want to visualize the concepts present in a book and their interaction ? GraphLang is the tool you (will) need to boost your texts using graphs."
   ]
  },
  {
   "cell_type": "markdown",
   "metadata": {},
   "source": [
    "## 1.2 How ?\n",
    "This project is all about analysing textual resources using graphs and extracting useful insights. The main idea is to represent a document using the cooccurrences of its words, turning that into a graph and leverage the power of graph analysis tools to make sense of this document. At first the graph could be built by only considering words directly adjacent to each other and representing this proximity with a link in the graph, where the nodes would be the words themselves. The recipe could then be complexified by considering also words at distance N from each other (N would have to be defined) and defining edge weights as a function of N. Punctuation could also be taken into account and would influence the weight of edges (two words, one at the end of a sentence and the other at the beginning of the next one shouldn’t (maybe) have a strong edge between them). This graph could be extended to take into account multiple documents at once using signals on the edges. Another idea would be to use the natural graph structure that emerges from the natural language and the relations between words. This could be extracted using a “Natural language processing” tool.\n",
    "\n"
   ]
  },
  {
   "cell_type": "markdown",
   "metadata": {},
   "source": [
    "## 1.3 What ?\n",
    "The techniques mentioned above could be applied to a bunch of textual resources, including news articles, books or even tweets (the latter ones could be used in batch, one tweet alone would certainly not provide enough information).\n"
   ]
  },
  {
   "cell_type": "markdown",
   "metadata": {},
   "source": [
    "# 2. GraphLang v1\n",
    "\n",
    "Build a graph with edges between words next to each others"
   ]
  },
  {
   "cell_type": "code",
   "execution_count": 5,
   "metadata": {},
   "outputs": [],
   "source": [
    "# INSERT CODE"
   ]
  },
  {
   "cell_type": "markdown",
   "metadata": {},
   "source": [
    "## 2.1 Data Acquisition\n",
    "\n",
    "Bible & Coran - SHOULD BE THE SAME AS GRAPHLANG V2 (20NewsGroup)"
   ]
  },
  {
   "cell_type": "code",
   "execution_count": 6,
   "metadata": {},
   "outputs": [],
   "source": [
    "# INSERT CODE"
   ]
  },
  {
   "cell_type": "markdown",
   "metadata": {},
   "source": [
    "## 2.2 Preprocessing\n",
    "\n",
    "Stopwords & ..."
   ]
  },
  {
   "cell_type": "code",
   "execution_count": 7,
   "metadata": {},
   "outputs": [],
   "source": [
    "# INSERT CODE"
   ]
  },
  {
   "cell_type": "markdown",
   "metadata": {},
   "source": [
    "## 2.3 Issues\n",
    "\n",
    "Spectral Clustering is not working"
   ]
  },
  {
   "cell_type": "code",
   "execution_count": 8,
   "metadata": {},
   "outputs": [],
   "source": [
    "# INSERT CODE"
   ]
  },
  {
   "cell_type": "markdown",
   "metadata": {},
   "source": [
    "# 3. GraphLang v2\n",
    "\n",
    "General idea similar to howework 03\n",
    "\n",
    "1. Compute features for news article (TF-IDF)\n",
    "2. Compute distance between articles\n",
    "3. Build a weighted graph using distance between articles "
   ]
  },
  {
   "cell_type": "code",
   "execution_count": 9,
   "metadata": {},
   "outputs": [],
   "source": [
    "# INSERT CODE"
   ]
  },
  {
   "cell_type": "markdown",
   "metadata": {},
   "source": [
    "## 3.1 Data Acquisition\n",
    "\n",
    "Scikit-Learn -> 20NewsGroups"
   ]
  },
  {
   "cell_type": "code",
   "execution_count": 10,
   "metadata": {},
   "outputs": [],
   "source": [
    "news_chunk = fetch_20newsgroups(subset='all')"
   ]
  },
  {
   "cell_type": "code",
   "execution_count": 11,
   "metadata": {},
   "outputs": [],
   "source": [
    "news_target = news_chunk.target\n",
    "news_target_names = news_chunk.target_names "
   ]
  },
  {
   "cell_type": "code",
   "execution_count": 12,
   "metadata": {},
   "outputs": [],
   "source": [
    "y_all = news_target"
   ]
  },
  {
   "cell_type": "code",
   "execution_count": 13,
   "metadata": {},
   "outputs": [],
   "source": [
    "df_y = pd.DataFrame(pd.DataFrame(y_all)[0].value_counts())\n",
    "df_y.reset_index(inplace=True)\n",
    "df_y.columns = ['label', 'counts']"
   ]
  },
  {
   "cell_type": "code",
   "execution_count": 104,
   "metadata": {},
   "outputs": [],
   "source": [
    "parent_cat_names = ['Computer', 'Recreational', 'Religion', 'Politics', 'Science', 'Sale']\n",
    "parent_cat_keyw = ['comp.', 'rec.', 'religion', '.politics.', 'sci.', 'misc.forsale']\n",
    "\n",
    "def sub_to_parent(name):\n",
    "    if 'atheism' in name:\n",
    "        return 'Religion'\n",
    "    for p, kw in zip(parent_cat_names, parent_cat_keyw):\n",
    "        if kw in name:\n",
    "            return p\n",
    "    raise ValueError('Undefined Category: ' + str(name))"
   ]
  },
  {
   "cell_type": "code",
   "execution_count": 132,
   "metadata": {},
   "outputs": [],
   "source": [
    "df_y_names = pd.DataFrame(news_target_names, columns=['cat'])\n",
    "df_y_names['p_cat'] = df_y_names['cat'].apply(sub_to_parent)\n",
    "df_y_names['p_label'] = df_y_names['p_cat'].apply(lambda x: parent_cat_names.index(x))"
   ]
  },
  {
   "cell_type": "code",
   "execution_count": 133,
   "metadata": {},
   "outputs": [],
   "source": [
    "df_y_names = df_y_names.reset_index().set_index(['p_cat', 'cat'])"
   ]
  },
  {
   "cell_type": "code",
   "execution_count": 134,
   "metadata": {},
   "outputs": [],
   "source": [
    "df_y_names.columns = ['label', 'p_label']"
   ]
  },
  {
   "cell_type": "code",
   "execution_count": 135,
   "metadata": {},
   "outputs": [],
   "source": [
    "df_y_merged = pd.merge(df_y_names.reset_index(), df_y, on='label').set_index(['p_cat', 'cat'])\n",
    "df_y_merged.sort_index(level=['p_cat','cat'], ascending=[1, 1], inplace=True)"
   ]
  },
  {
   "cell_type": "code",
   "execution_count": 136,
   "metadata": {},
   "outputs": [
    {
     "data": {
      "text/html": [
       "<div>\n",
       "<style>\n",
       "    .dataframe thead tr:only-child th {\n",
       "        text-align: right;\n",
       "    }\n",
       "\n",
       "    .dataframe thead th {\n",
       "        text-align: left;\n",
       "    }\n",
       "\n",
       "    .dataframe tbody tr th {\n",
       "        vertical-align: top;\n",
       "    }\n",
       "</style>\n",
       "<table border=\"1\" class=\"dataframe\">\n",
       "  <thead>\n",
       "    <tr style=\"text-align: right;\">\n",
       "      <th></th>\n",
       "      <th></th>\n",
       "      <th>label</th>\n",
       "      <th>p_label</th>\n",
       "      <th>counts</th>\n",
       "    </tr>\n",
       "    <tr>\n",
       "      <th>p_cat</th>\n",
       "      <th>cat</th>\n",
       "      <th></th>\n",
       "      <th></th>\n",
       "      <th></th>\n",
       "    </tr>\n",
       "  </thead>\n",
       "  <tbody>\n",
       "    <tr>\n",
       "      <th rowspan=\"5\" valign=\"top\">Computer</th>\n",
       "      <th>comp.graphics</th>\n",
       "      <td>1</td>\n",
       "      <td>0</td>\n",
       "      <td>973</td>\n",
       "    </tr>\n",
       "    <tr>\n",
       "      <th>comp.os.ms-windows.misc</th>\n",
       "      <td>2</td>\n",
       "      <td>0</td>\n",
       "      <td>985</td>\n",
       "    </tr>\n",
       "    <tr>\n",
       "      <th>comp.sys.ibm.pc.hardware</th>\n",
       "      <td>3</td>\n",
       "      <td>0</td>\n",
       "      <td>982</td>\n",
       "    </tr>\n",
       "    <tr>\n",
       "      <th>comp.sys.mac.hardware</th>\n",
       "      <td>4</td>\n",
       "      <td>0</td>\n",
       "      <td>963</td>\n",
       "    </tr>\n",
       "    <tr>\n",
       "      <th>comp.windows.x</th>\n",
       "      <td>5</td>\n",
       "      <td>0</td>\n",
       "      <td>988</td>\n",
       "    </tr>\n",
       "    <tr>\n",
       "      <th rowspan=\"3\" valign=\"top\">Politics</th>\n",
       "      <th>talk.politics.guns</th>\n",
       "      <td>16</td>\n",
       "      <td>3</td>\n",
       "      <td>910</td>\n",
       "    </tr>\n",
       "    <tr>\n",
       "      <th>talk.politics.mideast</th>\n",
       "      <td>17</td>\n",
       "      <td>3</td>\n",
       "      <td>940</td>\n",
       "    </tr>\n",
       "    <tr>\n",
       "      <th>talk.politics.misc</th>\n",
       "      <td>18</td>\n",
       "      <td>3</td>\n",
       "      <td>775</td>\n",
       "    </tr>\n",
       "    <tr>\n",
       "      <th rowspan=\"4\" valign=\"top\">Recreational</th>\n",
       "      <th>rec.autos</th>\n",
       "      <td>7</td>\n",
       "      <td>1</td>\n",
       "      <td>990</td>\n",
       "    </tr>\n",
       "    <tr>\n",
       "      <th>rec.motorcycles</th>\n",
       "      <td>8</td>\n",
       "      <td>1</td>\n",
       "      <td>996</td>\n",
       "    </tr>\n",
       "    <tr>\n",
       "      <th>rec.sport.baseball</th>\n",
       "      <td>9</td>\n",
       "      <td>1</td>\n",
       "      <td>994</td>\n",
       "    </tr>\n",
       "    <tr>\n",
       "      <th>rec.sport.hockey</th>\n",
       "      <td>10</td>\n",
       "      <td>1</td>\n",
       "      <td>999</td>\n",
       "    </tr>\n",
       "    <tr>\n",
       "      <th rowspan=\"3\" valign=\"top\">Religion</th>\n",
       "      <th>alt.atheism</th>\n",
       "      <td>0</td>\n",
       "      <td>2</td>\n",
       "      <td>799</td>\n",
       "    </tr>\n",
       "    <tr>\n",
       "      <th>soc.religion.christian</th>\n",
       "      <td>15</td>\n",
       "      <td>2</td>\n",
       "      <td>997</td>\n",
       "    </tr>\n",
       "    <tr>\n",
       "      <th>talk.religion.misc</th>\n",
       "      <td>19</td>\n",
       "      <td>2</td>\n",
       "      <td>628</td>\n",
       "    </tr>\n",
       "    <tr>\n",
       "      <th>Sale</th>\n",
       "      <th>misc.forsale</th>\n",
       "      <td>6</td>\n",
       "      <td>5</td>\n",
       "      <td>975</td>\n",
       "    </tr>\n",
       "    <tr>\n",
       "      <th rowspan=\"4\" valign=\"top\">Science</th>\n",
       "      <th>sci.crypt</th>\n",
       "      <td>11</td>\n",
       "      <td>4</td>\n",
       "      <td>991</td>\n",
       "    </tr>\n",
       "    <tr>\n",
       "      <th>sci.electronics</th>\n",
       "      <td>12</td>\n",
       "      <td>4</td>\n",
       "      <td>984</td>\n",
       "    </tr>\n",
       "    <tr>\n",
       "      <th>sci.med</th>\n",
       "      <td>13</td>\n",
       "      <td>4</td>\n",
       "      <td>990</td>\n",
       "    </tr>\n",
       "    <tr>\n",
       "      <th>sci.space</th>\n",
       "      <td>14</td>\n",
       "      <td>4</td>\n",
       "      <td>987</td>\n",
       "    </tr>\n",
       "  </tbody>\n",
       "</table>\n",
       "</div>"
      ],
      "text/plain": [
       "                                       label  p_label  counts\n",
       "p_cat        cat                                             \n",
       "Computer     comp.graphics                 1        0     973\n",
       "             comp.os.ms-windows.misc       2        0     985\n",
       "             comp.sys.ibm.pc.hardware      3        0     982\n",
       "             comp.sys.mac.hardware         4        0     963\n",
       "             comp.windows.x                5        0     988\n",
       "Politics     talk.politics.guns           16        3     910\n",
       "             talk.politics.mideast        17        3     940\n",
       "             talk.politics.misc           18        3     775\n",
       "Recreational rec.autos                     7        1     990\n",
       "             rec.motorcycles               8        1     996\n",
       "             rec.sport.baseball            9        1     994\n",
       "             rec.sport.hockey             10        1     999\n",
       "Religion     alt.atheism                   0        2     799\n",
       "             soc.religion.christian       15        2     997\n",
       "             talk.religion.misc           19        2     628\n",
       "Sale         misc.forsale                  6        5     975\n",
       "Science      sci.crypt                    11        4     991\n",
       "             sci.electronics              12        4     984\n",
       "             sci.med                      13        4     990\n",
       "             sci.space                    14        4     987"
      ]
     },
     "execution_count": 136,
     "metadata": {},
     "output_type": "execute_result"
    }
   ],
   "source": [
    "df_y_merged"
   ]
  },
  {
   "cell_type": "code",
   "execution_count": 19,
   "metadata": {
    "scrolled": false
   },
   "outputs": [
    {
     "data": {
      "image/png": "[encoded data removed]",
      "text/plain": [
       "<matplotlib.figure.Figure at 0x2242520ab70>"
      ]
     },
     "metadata": {},
     "output_type": "display_data"
    }
   ],
   "source": [
    "df_y_merged['counts'].plot(kind='bar');"
   ]
  },
  {
   "cell_type": "markdown",
   "metadata": {},
   "source": [
    "## 3.2 Features Engineering\n",
    "\n",
    "TF-IDF"
   ]
  },
  {
   "cell_type": "code",
   "execution_count": 20,
   "metadata": {},
   "outputs": [],
   "source": [
    "vectorizer = TfidfVectorizer(stop_words='english', max_df=0.5, sublinear_tf=True, max_features=500)"
   ]
  },
  {
   "cell_type": "code",
   "execution_count": 163,
   "metadata": {},
   "outputs": [],
   "source": [
    "selected_cat = ['Computer', 'Recreational', 'Religion', 'Politics']\n",
    "selected_labels = set(df_y_merged.loc[selected_cat]['label'].values)"
   ]
  },
  {
   "cell_type": "code",
   "execution_count": 164,
   "metadata": {},
   "outputs": [],
   "source": [
    "def is_in(s):\n",
    "    return np.vectorize(lambda x: x in s)"
   ]
  },
  {
   "cell_type": "code",
   "execution_count": 165,
   "metadata": {},
   "outputs": [],
   "source": [
    "mask_selected = is_in(selected_labels)(news_target)"
   ]
  },
  {
   "cell_type": "code",
   "execution_count": 166,
   "metadata": {},
   "outputs": [],
   "source": [
    "news_features = vectorizer.fit_transform([d for d, b in zip(news_chunk.data, mask_selected) if b])\n",
    "\n",
    "feature_names = vectorizer.get_feature_names()"
   ]
  },
  {
   "cell_type": "code",
   "execution_count": 167,
   "metadata": {},
   "outputs": [],
   "source": [
    "X = scipy.sparse.csr_matrix.todense(news_features)\n",
    "y = y_all[mask_selected]"
   ]
  },
  {
   "cell_type": "code",
   "execution_count": 168,
   "metadata": {},
   "outputs": [],
   "source": [
    "label_to_p_label = dict(df_y_merged[['label', 'p_label']].values)\n",
    "\n",
    "y_parent = np.vectorize(lambda x: label_to_p_label[x])(y)"
   ]
  },
  {
   "cell_type": "code",
   "execution_count": 169,
   "metadata": {},
   "outputs": [
    {
     "data": {
      "text/plain": [
       "((13919, 500), (13919,), (13919,))"
      ]
     },
     "execution_count": 169,
     "metadata": {},
     "output_type": "execute_result"
    }
   ],
   "source": [
    "X.shape, y.shape, y_parent.shape"
   ]
  },
  {
   "cell_type": "markdown",
   "metadata": {},
   "source": [
    "#### with subset of the data"
   ]
  },
  {
   "cell_type": "code",
   "execution_count": 151,
   "metadata": {},
   "outputs": [],
   "source": [
    "subset_size = 2000"
   ]
  },
  {
   "cell_type": "code",
   "execution_count": 152,
   "metadata": {},
   "outputs": [],
   "source": [
    "X = X[:subset_size]\n",
    "y = y[:subset_size]"
   ]
  },
  {
   "cell_type": "markdown",
   "metadata": {},
   "source": [
    "# 4. Graph Construction\n",
    "\n",
    "Ajacency matrix & Filtering"
   ]
  },
  {
   "cell_type": "markdown",
   "metadata": {},
   "source": [
    "### Distance matrix"
   ]
  },
  {
   "cell_type": "code",
   "execution_count": 153,
   "metadata": {},
   "outputs": [],
   "source": [
    "distances = spectral.features_to_dist_matrix(X, metric='cosine')"
   ]
  },
  {
   "cell_type": "code",
   "execution_count": 154,
   "metadata": {},
   "outputs": [
    {
     "data": {
      "image/png": "[encoded data removed]",
      "text/plain": [
       "<matplotlib.figure.Figure at 0x22432985710>"
      ]
     },
     "metadata": {},
     "output_type": "display_data"
    }
   ],
   "source": [
    "plt.hist(distances.flatten(), bins=100);"
   ]
  },
  {
   "cell_type": "markdown",
   "metadata": {},
   "source": [
    "### Weight Matrix"
   ]
  },
  {
   "cell_type": "code",
   "execution_count": 155,
   "metadata": {},
   "outputs": [],
   "source": [
    "all_weights = spectral.dist_to_adj_matrix(distances, 'gaussian')"
   ]
  },
  {
   "cell_type": "code",
   "execution_count": 156,
   "metadata": {},
   "outputs": [
    {
     "data": {
      "image/png": "[encoded data removed]",
      "text/plain": [
       "<matplotlib.figure.Figure at 0x22432b17940>"
      ]
     },
     "metadata": {},
     "output_type": "display_data"
    }
   ],
   "source": [
    "fix, axes = plt.subplots(2, 2, figsize=(17, 8))\n",
    "def plot(weights, axes):\n",
    "    axes[0].spy(weights)\n",
    "    axes[1].hist(weights[weights > 0].reshape(-1), bins=50);\n",
    "\n",
    "NEIGHBORS = 100\n",
    "weights = spectral.filter_neighbors(all_weights, NEIGHBORS)\n",
    "\n",
    "plot(all_weights, axes[:, 0])\n",
    "plot(weights, axes[:, 1])"
   ]
  },
  {
   "cell_type": "markdown",
   "metadata": {},
   "source": [
    "#### horizontal white lines are due to pyplot.spy (proof below)"
   ]
  },
  {
   "cell_type": "code",
   "execution_count": 157,
   "metadata": {},
   "outputs": [
    {
     "data": {
      "text/plain": [
       "(array([], dtype=int64),)"
      ]
     },
     "execution_count": 157,
     "metadata": {},
     "output_type": "execute_result"
    }
   ],
   "source": [
    "np.nonzero(all_weights.sum(axis = 0) == 0)"
   ]
  },
  {
   "cell_type": "markdown",
   "metadata": {},
   "source": [
    "### Degree matrix"
   ]
  },
  {
   "cell_type": "code",
   "execution_count": 158,
   "metadata": {},
   "outputs": [],
   "source": [
    "degrees = np.sum(weights, axis=0)"
   ]
  },
  {
   "cell_type": "code",
   "execution_count": 159,
   "metadata": {},
   "outputs": [
    {
     "data": {
      "image/png": "[encoded data removed]",
      "text/plain": [
       "<matplotlib.figure.Figure at 0x22432a6c780>"
      ]
     },
     "metadata": {},
     "output_type": "display_data"
    }
   ],
   "source": [
    "plt.hist(degrees, bins=50, log=True);"
   ]
  },
  {
   "cell_type": "markdown",
   "metadata": {},
   "source": [
    "# 5. Unsupervised Clustering \n",
    "\n",
    "Spectral Clustering + Gaussian Mixture Model (GMM) to define label"
   ]
  },
  {
   "cell_type": "code",
   "execution_count": null,
   "metadata": {},
   "outputs": [],
   "source": []
  },
  {
   "cell_type": "code",
   "execution_count": 160,
   "metadata": {},
   "outputs": [],
   "source": [
    "# INSERT CODE"
   ]
  },
  {
   "cell_type": "markdown",
   "metadata": {},
   "source": [
    "## 5.1 Spectral Clustering"
   ]
  },
  {
   "cell_type": "code",
   "execution_count": 56,
   "metadata": {},
   "outputs": [],
   "source": [
    "D = np.diag(degrees)\n",
    "W = weights\n",
    "L = D - W\n",
    "\n",
    "inv_sqrt_D = np.diag(1 / np.diag(D**(0.5)))\n",
    "\n",
    "normalized_laplacian = inv_sqrt_D @ L @ inv_sqrt_D"
   ]
  },
  {
   "cell_type": "code",
   "execution_count": 58,
   "metadata": {},
   "outputs": [
    {
     "data": {
      "image/png": "[encoded data removed]",
      "text/plain": [
       "<matplotlib.figure.Figure at 0x22429861f60>"
      ]
     },
     "metadata": {},
     "output_type": "display_data"
    }
   ],
   "source": [
    "plt.spy(normalized_laplacian);"
   ]
  },
  {
   "cell_type": "code",
   "execution_count": 61,
   "metadata": {},
   "outputs": [],
   "source": [
    "eigenvalues, eigenvectors = scipy.sparse.linalg.eigsh(normalized_laplacian, k=20, which='SM') # which='SA' gives us similar results"
   ]
  },
  {
   "cell_type": "code",
   "execution_count": 63,
   "metadata": {},
   "outputs": [
    {
     "data": {
      "image/png": "[encoded data removed]",
      "text/plain": [
       "<matplotlib.figure.Figure at 0x224296c6978>"
      ]
     },
     "metadata": {},
     "output_type": "display_data"
    }
   ],
   "source": [
    "plt.plot(eigenvalues, '.-', markersize=20);"
   ]
  },
  {
   "cell_type": "markdown",
   "metadata": {},
   "source": [
    "## 5.2 Gaussian Mixture Model"
   ]
  },
  {
   "cell_type": "code",
   "execution_count": null,
   "metadata": {},
   "outputs": [],
   "source": [
    "# INSERT CODE"
   ]
  },
  {
   "cell_type": "markdown",
   "metadata": {},
   "source": [
    "## 5.3 k-NN"
   ]
  },
  {
   "cell_type": "code",
   "execution_count": null,
   "metadata": {},
   "outputs": [],
   "source": [
    "# INSERT CODE"
   ]
  },
  {
   "cell_type": "markdown",
   "metadata": {},
   "source": [
    "# 6. Evaluation"
   ]
  },
  {
   "cell_type": "code",
   "execution_count": null,
   "metadata": {},
   "outputs": [],
   "source": [
    "# INSERT CODE"
   ]
  },
  {
   "cell_type": "markdown",
   "metadata": {},
   "source": [
    "# 7. Inference"
   ]
  },
  {
   "cell_type": "code",
   "execution_count": null,
   "metadata": {},
   "outputs": [],
   "source": [
    "# INSERT CODE"
   ]
  },
  {
   "cell_type": "markdown",
   "metadata": {},
   "source": [
    "# 8. Conclusion"
   ]
  },
  {
   "cell_type": "code",
   "execution_count": null,
   "metadata": {},
   "outputs": [],
   "source": [
    "# INSERT CODE"
   ]
  },
  {
   "cell_type": "code",
   "execution_count": null,
   "metadata": {},
   "outputs": [],
   "source": []
  }
 ],
 "metadata": {
  "kernelspec": {
   "display_name": "Python 3",
   "language": "python",
   "name": "python3"
  },
  "language_info": {
   "codemirror_mode": {
    "name": "ipython",
    "version": 3
   },
   "file_extension": ".py",
   "mimetype": "text/x-python",
   "name": "python",
   "nbconvert_exporter": "python",
   "pygments_lexer": "ipython3",
   "version": "3.6.1"
  },
  "toc": {
   "nav_menu": {},
   "number_sections": false,
   "sideBar": true,
   "skip_h1_title": false,
   "toc_cell": true,
   "toc_position": {},
   "toc_section_display": "block",
   "toc_window_display": false
  }
 },
 "nbformat": 4,
 "nbformat_minor": 2
}
