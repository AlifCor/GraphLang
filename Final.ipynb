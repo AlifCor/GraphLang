{
 "cells": [
  {
   "cell_type": "markdown",
   "metadata": {
    "toc": true
   },
   "source": [
    "<h1>Table of Contents<span class=\"tocSkip\"></span></h1>\n",
    "<div class=\"toc\" style=\"margin-top: 1em;\"><ul class=\"toc-item\"><li><span><a href=\"#1.-Introduction\" data-toc-modified-id=\"1.-Introduction-1\">1. Introduction</a></span></li><li><span><a href=\"#2.-GraphLang-v1\" data-toc-modified-id=\"2.-GraphLang-v1-2\">2. GraphLang v1</a></span><ul class=\"toc-item\"><li><span><a href=\"#2.1-Data-Acquisition\" data-toc-modified-id=\"2.1-Data-Acquisition-2.1\">2.1 Data Acquisition</a></span></li><li><span><a href=\"#2.2-Preprocessing\" data-toc-modified-id=\"2.2-Preprocessing-2.2\">2.2 Preprocessing</a></span></li><li><span><a href=\"#2.3-Issues\" data-toc-modified-id=\"2.3-Issues-2.3\">2.3 Issues</a></span></li></ul></li><li><span><a href=\"#3.-GraphLang-v2\" data-toc-modified-id=\"3.-GraphLang-v2-3\">3. GraphLang v2</a></span><ul class=\"toc-item\"><li><span><a href=\"#3.1-Data-Acquisition\" data-toc-modified-id=\"3.1-Data-Acquisition-3.1\">3.1 Data Acquisition</a></span></li><li><span><a href=\"#3.2-Features-Engineering\" data-toc-modified-id=\"3.2-Features-Engineering-3.2\">3.2 Features Engineering</a></span></li></ul></li><li><span><a href=\"#4.-Graph-Construction\" data-toc-modified-id=\"4.-Graph-Construction-4\">4. Graph Construction</a></span></li><li><span><a href=\"#5.-Unsupervised-Clustering\" data-toc-modified-id=\"5.-Unsupervised-Clustering-5\">5. Unsupervised Clustering</a></span><ul class=\"toc-item\"><li><span><a href=\"#5.1-Spectral-Clustering\" data-toc-modified-id=\"5.1-Spectral-Clustering-5.1\">5.1 Spectral Clustering</a></span></li><li><span><a href=\"#5.2-Gaussian-Mixture-Model\" data-toc-modified-id=\"5.2-Gaussian-Mixture-Model-5.2\">5.2 Gaussian Mixture Model</a></span></li><li><span><a href=\"#5.3-k-NN\" data-toc-modified-id=\"5.3-k-NN-5.3\">5.3 k-NN</a></span></li></ul></li><li><span><a href=\"#6.-Evaluation\" data-toc-modified-id=\"6.-Evaluation-6\">6. Evaluation</a></span></li><li><span><a href=\"#7.-Inference\" data-toc-modified-id=\"7.-Inference-7\">7. Inference</a></span></li><li><span><a href=\"#8.-Conclusion\" data-toc-modified-id=\"8.-Conclusion-8\">8. Conclusion</a></span></li></ul></div>"
   ]
  },
  {
   "cell_type": "markdown",
   "metadata": {},
   "source": [
    "# 1. Introduction\n",
    "\n",
    "what is our project about\n",
    "\n",
    "Lorem ipsum dolor sit amet, consectetur adipiscing elit, sed do eiusmod tempor incididunt ut labore et dolore magna aliqua. Ut enim ad minim veniam, quis nostrud exercitation ullamco laboris nisi ut aliquip ex ea commodo consequat. Duis aute irure dolor in reprehenderit in voluptate velit esse cillum dolore eu fugiat nulla pariatur. Excepteur sint occaecat cupidatat non proident, sunt in culpa qui officia deserunt mollit anim id est laborum.\n"
   ]
  },
  {
   "cell_type": "markdown",
   "metadata": {},
   "source": [
    "# 2. GraphLang v1\n",
    "\n",
    "Build a graph with edges between words next to each others"
   ]
  },
  {
   "cell_type": "code",
   "execution_count": null,
   "metadata": {},
   "outputs": [],
   "source": [
    "# INSERT CODE"
   ]
  },
  {
   "cell_type": "markdown",
   "metadata": {},
   "source": [
    "## 2.1 Data Acquisition\n",
    "\n",
    "Bible & Coran - SHOULD BE THE SAME AS GRAPHLANG V2 (20NewsGroup)"
   ]
  },
  {
   "cell_type": "code",
   "execution_count": null,
   "metadata": {},
   "outputs": [],
   "source": [
    "# INSERT CODE"
   ]
  },
  {
   "cell_type": "markdown",
   "metadata": {},
   "source": [
    "## 2.2 Preprocessing\n",
    "\n",
    "Stopwords & ..."
   ]
  },
  {
   "cell_type": "code",
   "execution_count": null,
   "metadata": {},
   "outputs": [],
   "source": [
    "# INSERT CODE"
   ]
  },
  {
   "cell_type": "markdown",
   "metadata": {},
   "source": [
    "## 2.3 Issues\n",
    "\n",
    "Spectral Clustering is not working"
   ]
  },
  {
   "cell_type": "code",
   "execution_count": null,
   "metadata": {},
   "outputs": [],
   "source": [
    "# INSERT CODE"
   ]
  },
  {
   "cell_type": "markdown",
   "metadata": {},
   "source": [
    "# 3. GraphLang v2\n",
    "\n",
    "General idea similar to howework 03\n",
    "\n",
    "1. Compute features for news article (TF-IDF)\n",
    "2. Compute distance between articles\n",
    "3. Build a weighted graph using distance between articles "
   ]
  },
  {
   "cell_type": "code",
   "execution_count": null,
   "metadata": {},
   "outputs": [],
   "source": [
    "# INSERT CODE"
   ]
  },
  {
   "cell_type": "markdown",
   "metadata": {},
   "source": [
    "## 3.1 Data Acquisition\n",
    "\n",
    "Scikit-Learn -> 20NewsGroups"
   ]
  },
  {
   "cell_type": "code",
   "execution_count": null,
   "metadata": {},
   "outputs": [],
   "source": [
    "# INSERT CODE"
   ]
  },
  {
   "cell_type": "markdown",
   "metadata": {},
   "source": [
    "## 3.2 Features Engineering\n",
    "\n",
    "TF-IDF"
   ]
  },
  {
   "cell_type": "code",
   "execution_count": 18,
   "metadata": {},
   "outputs": [],
   "source": [
    "# INSERT CODE"
   ]
  },
  {
   "cell_type": "markdown",
   "metadata": {},
   "source": [
    "# 4. Graph Construction\n",
    "\n",
    "Ajacency matrix & Filtering"
   ]
  },
  {
   "cell_type": "code",
   "execution_count": null,
   "metadata": {},
   "outputs": [],
   "source": [
    "# INSERT CODE"
   ]
  },
  {
   "cell_type": "markdown",
   "metadata": {},
   "source": [
    "# 5. Unsupervised Clustering \n",
    "\n",
    "Spectral Clustering + Gaussian Mixture Model (GMM) to define£ label"
   ]
  },
  {
   "cell_type": "code",
   "execution_count": 19,
   "metadata": {},
   "outputs": [],
   "source": [
    "# INSERT CODE"
   ]
  },
  {
   "cell_type": "markdown",
   "metadata": {},
   "source": [
    "## 5.1 Spectral Clustering"
   ]
  },
  {
   "cell_type": "code",
   "execution_count": null,
   "metadata": {},
   "outputs": [],
   "source": [
    "# INSERT CODE"
   ]
  },
  {
   "cell_type": "markdown",
   "metadata": {},
   "source": [
    "## 5.2 Gaussian Mixture Model"
   ]
  },
  {
   "cell_type": "code",
   "execution_count": 22,
   "metadata": {},
   "outputs": [],
   "source": [
    "# INSERT CODE"
   ]
  },
  {
   "cell_type": "markdown",
   "metadata": {},
   "source": [
    "## 5.3 k-NN"
   ]
  },
  {
   "cell_type": "code",
   "execution_count": null,
   "metadata": {},
   "outputs": [],
   "source": [
    "# INSERT CODE"
   ]
  },
  {
   "cell_type": "markdown",
   "metadata": {},
   "source": [
    "# 6. Evaluation"
   ]
  },
  {
   "cell_type": "code",
   "execution_count": 20,
   "metadata": {},
   "outputs": [],
   "source": [
    "# INSERT CODE"
   ]
  },
  {
   "cell_type": "markdown",
   "metadata": {},
   "source": [
    "# 7. Inference"
   ]
  },
  {
   "cell_type": "code",
   "execution_count": 21,
   "metadata": {},
   "outputs": [],
   "source": [
    "# INSERT CODE"
   ]
  },
  {
   "cell_type": "markdown",
   "metadata": {},
   "source": [
    "# 8. Conclusion"
   ]
  },
  {
   "cell_type": "code",
   "execution_count": null,
   "metadata": {},
   "outputs": [],
   "source": [
    "# INSERT CODE"
   ]
  },
  {
   "cell_type": "code",
   "execution_count": null,
   "metadata": {},
   "outputs": [],
   "source": []
  }
 ],
 "metadata": {
  "kernelspec": {
   "display_name": "Python 3",
   "language": "python",
   "name": "python3"
  },
  "language_info": {
   "codemirror_mode": {
    "name": "ipython",
    "version": 3
   },
   "file_extension": ".py",
   "mimetype": "text/x-python",
   "name": "python",
   "nbconvert_exporter": "python",
   "pygments_lexer": "ipython3",
   "version": "3.6.1"
  },
  "toc": {
   "nav_menu": {},
   "number_sections": false,
   "sideBar": true,
   "skip_h1_title": false,
   "toc_cell": true,
   "toc_position": {},
   "toc_section_display": "block",
   "toc_window_display": false
  }
 },
 "nbformat": 4,
 "nbformat_minor": 2
}
