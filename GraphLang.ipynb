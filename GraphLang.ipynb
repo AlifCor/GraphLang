{
 "cells": [
  {
   "cell_type": "code",
   "execution_count": 3,
   "metadata": {},
   "outputs": [],
   "source": [
    "import numpy as np, string, utils, preprocess"
   ]
  },
  {
   "cell_type": "code",
   "execution_count": 4,
   "metadata": {},
   "outputs": [
    {
     "data": {
      "text/plain": [
       "'In the beginning God created the heaven and the earth.\\r\\nAnd the earth was without form, and void; an'"
      ]
     },
     "execution_count": 4,
     "metadata": {},
     "output_type": "execute_result"
    }
   ],
   "source": [
    "book = utils.load_text(\"books/king-james-bible-processed.txt\")\n",
    "book[:100]"
   ]
  },
  {
   "cell_type": "code",
   "execution_count": 5,
   "metadata": {},
   "outputs": [
    {
     "data": {
      "text/plain": [
       "['in',\n",
       " 'the',\n",
       " 'beginning',\n",
       " 'god',\n",
       " 'create',\n",
       " 'the',\n",
       " 'heaven',\n",
       " 'and',\n",
       " 'the',\n",
       " 'earth',\n",
       " '.',\n",
       " 'and',\n",
       " 'the',\n",
       " 'earth',\n",
       " 'be']"
      ]
     },
     "execution_count": 5,
     "metadata": {},
     "output_type": "execute_result"
    }
   ],
   "source": [
    "book_lems = preprocess.words_lems(book, lower=True)\n",
    "book_lems[:15]"
   ]
  },
  {
   "cell_type": "code",
   "execution_count": 6,
   "metadata": {},
   "outputs": [
    {
     "name": "stdout",
     "output_type": "stream",
     "text": [
      "Corpus size: 13175\n"
     ]
    },
    {
     "data": {
      "text/plain": [
       "[('in', 8624),\n",
       " ('the', 10222),\n",
       " ('beginning', 8664),\n",
       " ('god', 437),\n",
       " ('create', 6787),\n",
       " ('the', 10222),\n",
       " ('heaven', 5426),\n",
       " ('and', 5524),\n",
       " ('the', 10222),\n",
       " ('earth', 11433),\n",
       " ('.', -1),\n",
       " ('and', 5524),\n",
       " ('the', 10222),\n",
       " ('earth', 11433),\n",
       " ('be', 3580)]"
      ]
     },
     "execution_count": 6,
     "metadata": {},
     "output_type": "execute_result"
    }
   ],
   "source": [
    "words_map = preprocess.words_to_int(book_lems, ignore_punct=True)\n",
    "print(\"Corpus size: {}\".format(len(words_map)))\n",
    "[(w, words_map.get(w, -1)) for w in book_lems[:15]]"
   ]
  },
  {
   "cell_type": "code",
   "execution_count": 7,
   "metadata": {},
   "outputs": [
    {
     "data": {
      "text/plain": [
       "array([[ 0.,  0.,  0., ...,  0.,  0.,  0.],\n",
       "       [ 0.,  0.,  0., ...,  0.,  0.,  0.],\n",
       "       [ 0.,  0.,  0., ...,  0.,  0.,  0.],\n",
       "       ..., \n",
       "       [ 0.,  0.,  0., ...,  0.,  0.,  0.],\n",
       "       [ 0.,  0.,  0., ...,  0.,  0.,  0.],\n",
       "       [ 0.,  0.,  0., ...,  0.,  0.,  0.]])"
      ]
     },
     "execution_count": 7,
     "metadata": {},
     "output_type": "execute_result"
    }
   ],
   "source": [
    "graph = preprocess.build_graph(book_lems, words_map)\n",
    "graph"
   ]
  },
  {
   "cell_type": "code",
   "execution_count": 8,
   "metadata": {},
   "outputs": [
    {
     "name": "stdout",
     "output_type": "stream",
     "text": [
      "Sparsity: 99.70%\n"
     ]
    }
   ],
   "source": [
    "print(\"Sparsity: {:05.2f}%\".format(100 * (1 - np.count_nonzero(graph) / graph.size)))"
   ]
  },
  {
   "cell_type": "code",
   "execution_count": 14,
   "metadata": {},
   "outputs": [
    {
     "name": "stdout",
     "output_type": "stream",
     "text": [
      "In the name of Allah, the Beneficent, the Merciful.\n",
      "All praise is due to Allah, the Lord of the Worlds.\n",
      "Sparsity: 99.26%\n"
     ]
    }
   ],
   "source": [
    "quran = utils.load_text(\"books/quran-shakir.txt\")\n",
    "print(quran[:103])\n",
    "\n",
    "quran_graph = preprocess.text_to_graph(quran)\n",
    "print(\"Sparsity: {:05.2f}%\".format(100 * (1 - np.count_nonzero(quran_graph) / quran_graph.size)))"
   ]
  },
  {
   "cell_type": "code",
   "execution_count": null,
   "metadata": {},
   "outputs": [],
   "source": []
  }
 ],
 "metadata": {
  "kernelspec": {
   "display_name": "Python 3",
   "language": "python",
   "name": "python3"
  },
  "language_info": {
   "codemirror_mode": {
    "name": "ipython",
    "version": 3
   },
   "file_extension": ".py",
   "mimetype": "text/x-python",
   "name": "python",
   "nbconvert_exporter": "python",
   "pygments_lexer": "ipython3",
   "version": "3.6.4"
  }
 },
 "nbformat": 4,
 "nbformat_minor": 2
}
