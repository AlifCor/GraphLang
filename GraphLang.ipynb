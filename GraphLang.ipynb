{
 "cells": [
  {
   "cell_type": "code",
   "execution_count": 1,
   "metadata": {},
   "outputs": [],
   "source": [
    "import numpy as np, string, utils, preprocess"
   ]
  },
  {
   "cell_type": "code",
   "execution_count": 2,
   "metadata": {},
   "outputs": [
    {
     "data": {
      "text/plain": [
       "'In the beginning God created the heaven and the earth.\\r\\nAnd the earth was without form, and void; an'"
      ]
     },
     "execution_count": 2,
     "metadata": {},
     "output_type": "execute_result"
    }
   ],
   "source": [
    "book = utils.load_text(\"books/king-james-bible-processed.txt\")\n",
    "book[:100]"
   ]
  },
  {
   "cell_type": "code",
   "execution_count": 3,
   "metadata": {},
   "outputs": [
    {
     "data": {
      "text/plain": [
       "['in',\n",
       " 'the',\n",
       " 'beginning',\n",
       " 'god',\n",
       " 'create',\n",
       " 'the',\n",
       " 'heaven',\n",
       " 'and',\n",
       " 'the',\n",
       " 'earth',\n",
       " '.',\n",
       " 'and',\n",
       " 'the',\n",
       " 'earth',\n",
       " 'be']"
      ]
     },
     "execution_count": 3,
     "metadata": {},
     "output_type": "execute_result"
    }
   ],
   "source": [
    "book_lems = preprocess.words_lems(book, lower=True)\n",
    "book_lems[:15]"
   ]
  },
  {
   "cell_type": "code",
   "execution_count": 4,
   "metadata": {},
   "outputs": [
    {
     "data": {
      "text/plain": [
       "[('in', 6305),\n",
       " ('the', 1379),\n",
       " ('beginning', 2713),\n",
       " ('god', 5515),\n",
       " ('create', 8232),\n",
       " ('the', 1379),\n",
       " ('heaven', 1102),\n",
       " ('and', 6259),\n",
       " ('the', 1379),\n",
       " ('earth', 6955),\n",
       " ('.', -1),\n",
       " ('and', 6259),\n",
       " ('the', 1379),\n",
       " ('earth', 6955),\n",
       " ('be', 9229)]"
      ]
     },
     "execution_count": 4,
     "metadata": {},
     "output_type": "execute_result"
    }
   ],
   "source": [
    "words_map = preprocess.words_to_int(book_lems, ignore_punct=True)\n",
    "[(w, words_map.get(w, -1)) for w in book_lems[:15]]"
   ]
  },
  {
   "cell_type": "code",
   "execution_count": 5,
   "metadata": {},
   "outputs": [],
   "source": [
    "def build_link(adj, weight, words_map, words, from_index, to_index):\n",
    "    words_len = len(words)\n",
    "    while to_index < words_len and words[to_index] in string.punctuation:\n",
    "        to_index += 1\n",
    "        weight /= 2\n",
    "    \n",
    "    if to_index < len(words):\n",
    "        adj[words_map[words[from_index]], words_map[words[to_index]]] = adj[words_map[words[from_index]], words_map[words[to_index]]] + weight\n",
    "    weight /= 2\n",
    "    return weight, to_index + 1\n",
    "\n",
    "def build_graph(lemmas, lemmas_map):\n",
    "    len_dist_lemmas = len(lemmas_map)\n",
    "    len_lemmas = len(lemmas)\n",
    "    adj = np.zeros((len_dist_lemmas, len_dist_lemmas))\n",
    "    for index, lemma in enumerate(lemmas):\n",
    "        # TODO Take into account punctuation / stop words\n",
    "        if(lemma in string.punctuation):\n",
    "            continue\n",
    "        weight = 16\n",
    "        next_index = index + 1\n",
    "        \n",
    "        weight, next_index = build_link(adj, weight, lemmas_map, lemmas, index, next_index)\n",
    "        weight, next_index = build_link(adj, weight, lemmas_map, lemmas, index, next_index)\n",
    "        weight, next_index = build_link(adj, weight, lemmas_map, lemmas, index, next_index)\n",
    "        weight, next_index = build_link(adj, weight, lemmas_map, lemmas, index, next_index)\n",
    "    \n",
    "    return adj"
   ]
  },
  {
   "cell_type": "code",
   "execution_count": 6,
   "metadata": {},
   "outputs": [
    {
     "data": {
      "text/plain": [
       "array([[ 0.,  0.,  0., ...,  0.,  0.,  0.],\n",
       "       [ 0.,  2.,  0., ...,  0.,  0.,  0.],\n",
       "       [ 0.,  0.,  0., ...,  0.,  0.,  0.],\n",
       "       ..., \n",
       "       [ 0.,  0.,  0., ...,  0.,  0.,  0.],\n",
       "       [ 0.,  0.,  0., ...,  0.,  9.,  0.],\n",
       "       [ 0.,  0.,  0., ...,  0.,  0.,  0.]])"
      ]
     },
     "execution_count": 6,
     "metadata": {},
     "output_type": "execute_result"
    }
   ],
   "source": [
    "graph = build_graph(book_lems, words_map)\n",
    "graph"
   ]
  },
  {
   "cell_type": "code",
   "execution_count": 7,
   "metadata": {},
   "outputs": [
    {
     "name": "stdout",
     "output_type": "stream",
     "text": [
      "Sparsity: 99.64%\n"
     ]
    }
   ],
   "source": [
    "print(\"Sparsity: {:05.2f}%\".format(100 * (1 - np.count_nonzero(graph) / graph.size)))"
   ]
  },
  {
   "cell_type": "code",
   "execution_count": null,
   "metadata": {},
   "outputs": [],
   "source": []
  }
 ],
 "metadata": {
  "kernelspec": {
   "display_name": "Python 3",
   "language": "python",
   "name": "python3"
  },
  "language_info": {
   "codemirror_mode": {
    "name": "ipython",
    "version": 3
   },
   "file_extension": ".py",
   "mimetype": "text/x-python",
   "name": "python",
   "nbconvert_exporter": "python",
   "pygments_lexer": "ipython3",
   "version": "3.6.4"
  }
 },
 "nbformat": 4,
 "nbformat_minor": 2
}
