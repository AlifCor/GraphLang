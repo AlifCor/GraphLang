{
 "cells": [
  {
   "cell_type": "code",
   "execution_count": 10,
   "metadata": {},
   "outputs": [],
   "source": [
    "import numpy as np, string\n",
    "\n",
    "from utils import load_text\n",
    "from preprocess import text_to_graph, words_stems, words_lems\n",
    "from graph import sparsity"
   ]
  },
  {
   "cell_type": "code",
   "execution_count": 7,
   "metadata": {},
   "outputs": [
    {
     "name": "stdout",
     "output_type": "stream",
     "text": [
      "Au commencement, Dieu créa les cieux et la terre.\n",
      "Or la terre était informe et vide, et les ténèbres é\n",
      "Sparsity: 99.70%\n"
     ]
    }
   ],
   "source": [
    "biblefr = load_text(\"books/bible-french-ostervald.txt\")\n",
    "print(biblefr[:103])\n",
    "\n",
    "biblefr_graph = text_to_graph(biblefr, \"stem\", lang=\"french\")\n",
    "print(\"Sparsity: {:05.2f}%\".format(100 * (1 - np.count_nonzero(biblefr_graph) / biblefr_graph.size)))"
   ]
  },
  {
   "cell_type": "code",
   "execution_count": 2,
   "metadata": {},
   "outputs": [
    {
     "data": {
      "text/plain": [
       "[0.9969845199563262, 0.9961569228133509, 0.9966557001596188]"
      ]
     },
     "execution_count": 2,
     "metadata": {},
     "output_type": "execute_result"
    }
   ],
   "source": [
    "texts = [(\"bible-french-ostervald.txt\", \"french\"), (\"king-james-bible-processed.txt\", \"english\"), (\"quran-simple-clean.txt\", \"arabic\")]\n",
    "\n",
    "graphs = [text_to_graph(load_text(\"books/\" + text), \"stem\", lang=lang) for (text, lang) in texts]\n",
    "\n",
    "sparsities = [sparsity(g) for g in graphs]\n",
    "sparsities"
   ]
  },
  {
   "cell_type": "code",
   "execution_count": 11,
   "metadata": {},
   "outputs": [],
   "source": [
    "quran = load_text(\"books/quran-shakir.txt\")\n",
    "words = words_lems(quran)"
   ]
  },
  {
   "cell_type": "code",
   "execution_count": 12,
   "metadata": {},
   "outputs": [
    {
     "data": {
      "text/plain": [
       "['In',\n",
       " 'the',\n",
       " 'name',\n",
       " 'of',\n",
       " 'Allah',\n",
       " ',',\n",
       " 'the',\n",
       " 'Beneficent',\n",
       " ',',\n",
       " 'the',\n",
       " 'Merciful',\n",
       " '.',\n",
       " 'All',\n",
       " 'praise',\n",
       " 'be',\n",
       " 'due',\n",
       " 'to',\n",
       " 'Allah',\n",
       " ',',\n",
       " 'the',\n",
       " 'Lord',\n",
       " 'of',\n",
       " 'the',\n",
       " 'Worlds',\n",
       " '.',\n",
       " 'The',\n",
       " 'Beneficent',\n",
       " ',',\n",
       " 'the',\n",
       " 'Merciful',\n",
       " '.',\n",
       " 'Master',\n",
       " 'of',\n",
       " 'the',\n",
       " 'Day',\n",
       " 'of',\n",
       " 'Judgment',\n",
       " '.',\n",
       " 'Thee',\n",
       " 'do',\n",
       " 'we',\n",
       " 'serve',\n",
       " 'and',\n",
       " 'Thee',\n",
       " 'do',\n",
       " 'we',\n",
       " 'beseech',\n",
       " 'for',\n",
       " 'help',\n",
       " '.',\n",
       " 'Keep',\n",
       " 'u',\n",
       " 'on',\n",
       " 'the',\n",
       " 'right',\n",
       " 'path',\n",
       " '.',\n",
       " 'The',\n",
       " 'path',\n",
       " 'of',\n",
       " 'those',\n",
       " 'upon',\n",
       " 'whom',\n",
       " 'Thou',\n",
       " 'hast',\n",
       " 'bestow',\n",
       " 'favor',\n",
       " '.',\n",
       " 'Not',\n",
       " '(',\n",
       " 'the',\n",
       " 'path',\n",
       " ')',\n",
       " 'of',\n",
       " 'those',\n",
       " 'upon',\n",
       " 'whom',\n",
       " 'Thy',\n",
       " 'wrath',\n",
       " 'be',\n",
       " 'bring',\n",
       " 'down',\n",
       " ',',\n",
       " 'nor',\n",
       " 'of',\n",
       " 'those',\n",
       " 'who',\n",
       " 'go',\n",
       " 'astray',\n",
       " '.',\n",
       " 'Alif',\n",
       " 'Lam',\n",
       " 'Mim',\n",
       " '.',\n",
       " 'This',\n",
       " 'Book',\n",
       " ',',\n",
       " 'there',\n",
       " 'be',\n",
       " 'no']"
      ]
     },
     "execution_count": 12,
     "metadata": {},
     "output_type": "execute_result"
    }
   ],
   "source": [
    "words[:100]"
   ]
  },
  {
   "cell_type": "code",
   "execution_count": null,
   "metadata": {},
   "outputs": [],
   "source": []
  }
 ],
 "metadata": {
  "kernelspec": {
   "display_name": "Python 3",
   "language": "python",
   "name": "python3"
  },
  "language_info": {
   "codemirror_mode": {
    "name": "ipython",
    "version": 3
   },
   "file_extension": ".py",
   "mimetype": "text/x-python",
   "name": "python",
   "nbconvert_exporter": "python",
   "pygments_lexer": "ipython3",
   "version": "3.6.4"
  }
 },
 "nbformat": 4,
 "nbformat_minor": 2
}
